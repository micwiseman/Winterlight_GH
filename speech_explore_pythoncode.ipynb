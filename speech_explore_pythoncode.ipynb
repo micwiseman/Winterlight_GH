{
 "cells": [
  {
   "cell_type": "markdown",
   "metadata": {},
   "source": [
    "Data Cleaning: Checking for missing values, duplicates, and potentially irrelevant columns"
   ]
  },
  {
   "cell_type": "code",
   "execution_count": null,
   "metadata": {},
   "outputs": [],
   "source": [
    "\n",
    "# Checking for missing values\n",
    "missing_values = data.isnull().sum()\n",
    "\n",
    "# Checking for duplicate rows\n",
    "duplicate_rows = data.duplicated().sum()\n",
    "\n",
    "# Displaying the summary of missing values and duplicate rows\n",
    "missing_values_summary = missing_values[missing_values > 0]\n",
    "missing_values_count = missing_values_summary.count()\n",
    "missing_values_info = missing_values_summary if missing_values_count > 0 else \"No missing values\"\n",
    "duplicate_rows_info = f\"Duplicate Rows: {duplicate_rows}\" if duplicate_rows > 0 else \"No duplicate rows\"\n",
    "\n",
    "missing_values_info, duplicate_rows_info\n"
   ]
  },
  {
   "cell_type": "markdown",
   "metadata": {},
   "source": [
    "Explores the clinical variables as a function of age, sex, testing location, participant group "
   ]
  },
  {
   "cell_type": "code",
   "execution_count": 1,
   "metadata": {},
   "outputs": [
    {
     "ename": "NameError",
     "evalue": "name 'latest_data' is not defined",
     "output_type": "error",
     "traceback": [
      "\u001b[0;31m---------------------------------------------------------------------------\u001b[0m",
      "\u001b[0;31mNameError\u001b[0m                                 Traceback (most recent call last)",
      "\u001b[1;32m/Users/micaelawiseman/PhD/Thesis/Winterlight/Code/speech_explore_pythoncode.ipynb Cell 2\u001b[0m line \u001b[0;36m2\n\u001b[1;32m     <a href='vscode-notebook-cell:/Users/micaelawiseman/PhD/Thesis/Winterlight/Code/speech_explore_pythoncode.ipynb#W2sZmlsZQ%3D%3D?line=20'>21</a>\u001b[0m         plt\u001b[39m.\u001b[39mshow()\n\u001b[1;32m     <a href='vscode-notebook-cell:/Users/micaelawiseman/PhD/Thesis/Winterlight/Code/speech_explore_pythoncode.ipynb#W2sZmlsZQ%3D%3D?line=22'>23</a>\u001b[0m \u001b[39m# Box plots for categorical demographic and testing variables\u001b[39;00m\n\u001b[0;32m---> <a href='vscode-notebook-cell:/Users/micaelawiseman/PhD/Thesis/Winterlight/Code/speech_explore_pythoncode.ipynb#W2sZmlsZQ%3D%3D?line=23'>24</a>\u001b[0m create_comparison_boxplots_latest(latest_data, clinical_vars_latest, demographic_testing_vars_latest)\n\u001b[1;32m     <a href='vscode-notebook-cell:/Users/micaelawiseman/PhD/Thesis/Winterlight/Code/speech_explore_pythoncode.ipynb#W2sZmlsZQ%3D%3D?line=25'>26</a>\u001b[0m \u001b[39m# Scatter plots for age\u001b[39;00m\n\u001b[1;32m     <a href='vscode-notebook-cell:/Users/micaelawiseman/PhD/Thesis/Winterlight/Code/speech_explore_pythoncode.ipynb#W2sZmlsZQ%3D%3D?line=26'>27</a>\u001b[0m create_age_scatterplots_latest(latest_data, clinical_vars_latest)\n",
      "\u001b[0;31mNameError\u001b[0m: name 'latest_data' is not defined"
     ]
    }
   ],
   "source": [
    "# Demographic and testing variables in the latest dataset\n",
    "demographic_testing_vars_latest = [\"sex\", \"participant_group\", \"testing_location\", \"age_screening\"]\n",
    "\n",
    "# Creating box plots for comparing clinical variables across categorical demographic and testing variables\n",
    "def create_comparison_boxplots_latest(data, clinical_vars, demographic_vars):\n",
    "    for demo_var in demographic_vars:\n",
    "        if data[demo_var].dtype == 'object' or demo_var == \"participant_group\":  # Categorical variables\n",
    "            for clin_var in clinical_vars:\n",
    "                plt.figure(figsize=(8, 4))\n",
    "                sns.boxplot(x=data[demo_var], y=data[clin_var])\n",
    "                plt.title(f'{clin_var} by {demo_var}')\n",
    "                plt.xticks(rotation=45)\n",
    "                plt.show()\n",
    "\n",
    "# Creating scatter plots for age\n",
    "def create_age_scatterplots_latest(data, clinical_vars):\n",
    "    for clin_var in clinical_vars:\n",
    "        plt.figure(figsize=(8, 4))\n",
    "        sns.scatterplot(x=data[\"age_screening\"], y=data[clin_var])\n",
    "        plt.title(f'{clin_var} vs Age')\n",
    "        plt.show()\n",
    "\n",
    "# Box plots for categorical demographic and testing variables\n",
    "create_comparison_boxplots_latest(latest_data, clinical_vars_latest, demographic_testing_vars_latest)\n",
    "\n",
    "# Scatter plots for age\n",
    "create_age_scatterplots_latest(latest_data, clinical_vars_latest)\n"
   ]
  },
  {
   "cell_type": "code",
   "execution_count": null,
   "metadata": {},
   "outputs": [],
   "source": [
    "# Categorizing variables into Clinical, Demographic, and Speech variables\n",
    "clinical_variables = [col for col in data.columns if col.startswith(('gad7', 'qids', 'hamd17'))]\n",
    "demographic_variables = ['sex', 'age_screening', 'participant_group', 'age_learned_english', 'testing_location']\n",
    "speech_variables = [col for col in data.columns if col not in clinical_variables + demographic_variables]\n",
    "\n",
    "# Creating subsets of data based on these categories\n",
    "clinical_data = data[clinical_variables]\n",
    "demographic_data = data[demographic_variables]\n",
    "speech_data = data[speech_variables]\n",
    "\n",
    "# Checking the number of variables in each category\n",
    "len_clinical = len(clinical_variables)\n",
    "len_demographic = len(demographic_variables)\n",
    "len_speech = len(speech_variables)\n",
    "\n",
    "len_clinical, len_demographic, len_speech, clinical_variables[:5], demographic_variables, speech_variables[:5]  # Displaying first 5 variables from each category for verification\n"
   ]
  },
  {
   "cell_type": "markdown",
   "metadata": {},
   "source": [
    "Looking for strong correlations between speech variables at baseline"
   ]
  },
  {
   "cell_type": "code",
   "execution_count": null,
   "metadata": {},
   "outputs": [],
   "source": [
    "# Counting the frequency of each variable in the correlation pairs\n",
    "variable_counts = pd.concat([strong_correlation_pairs_without_mfcc['Variable 1'], \n",
    "                             strong_correlation_pairs_without_mfcc['Variable 2']]).value_counts()\n",
    "\n",
    "# Identifying variables to be removed\n",
    "variables_to_remove = []\n",
    "for _, row in strong_correlation_pairs_without_mfcc.iterrows():\n",
    "    if row['Variable 1'] not in variables_to_remove and row['Variable 2'] not in variables_to_remove:\n",
    "        # Remove the variable that appears more frequently\n",
    "        if variable_counts[row['Variable 1']] > variable_counts[row['Variable 2']]:\n",
    "            variables_to_remove.append(row['Variable 1'])\n",
    "        else:\n",
    "            variables_to_remove.append(row['Variable 2'])\n",
    "\n",
    "# Removing the identified variables from the dataset\n",
    "reduced_speech_data = speech_data_without_mfcc.drop(columns=variables_to_remove)\n",
    "\n",
    "# Number of variables removed and remaining\n",
    "num_variables_removed = len(variables_to_remove)\n",
    "num_variables_remaining = reduced_speech_data.shape[1]\n",
    "\n",
    "num_variables_removed, num_variables_remaining\n",
    "\n",
    "# Creating a list of removed variables for display\n",
    "removed_variables_list = sorted(variables_to_remove)\n",
    "\n",
    "removed_variables_list"
   ]
  },
  {
   "cell_type": "code",
   "execution_count": null,
   "metadata": {},
   "outputs": [],
   "source": [
    "import numpy as np\n",
    "\n",
    "# Recalculating with numpy imported\n",
    "strong_correlations = speech_correlation_matrix[(speech_correlation_matrix >= strong_correlation_threshold) | \n",
    "                                                (speech_correlation_matrix <= -strong_correlation_threshold)]\n",
    "\n",
    "# Filtering out the diagonal and lower triangle to avoid duplicate correlations\n",
    "strong_correlations = strong_correlations.where(\n",
    "    np.triu(np.ones(strong_correlations.shape), k=1).astype(np.bool)\n",
    ")\n",
    "\n",
    "# Flattening the matrix to a list of variable pairs with their correlation\n",
    "strong_correlation_pairs = strong_correlations.stack().reset_index()\n",
    "strong_correlation_pairs.columns = ['Variable 1', 'Variable 2', 'Correlation']\n",
    "\n",
    "strong_correlation_pairs.head(10)  # Displaying the first 10 strong correlation pairs"
   ]
  },
  {
   "cell_type": "markdown",
   "metadata": {},
   "source": [
    "T-tests exploring differences in speech variables according to sex, participant group"
   ]
  },
  {
   "cell_type": "code",
   "execution_count": null,
   "metadata": {},
   "outputs": [],
   "source": [
    "from scipy.stats import ttest_ind\n",
    "\n",
    "# Function to perform t-tests for a given variable across two groups\n",
    "def perform_t_test(data, variable, group_column, group1, group2):\n",
    "    group1_data = data[data[group_column] == group1][variable].dropna()\n",
    "    group2_data = data[data[group_column] == group2][variable].dropna()\n",
    "    t_stat, p_value = ttest_ind(group1_data, group2_data)\n",
    "    return t_stat, p_value\n",
    "\n",
    "# Selecting a few variables for t-test\n",
    "selected_variables = ['speech_rate', 'fundamental_frequency_mean', 'hnr_ac_min']\n",
    "\n",
    "# Performing t-tests for Participant Group (Control vs MDD)\n",
    "t_test_results_participant_group = {var: perform_t_test(merged_data_reanalysis, var, 'participant_group', 'Control', 'MDD') \n",
    "                                    for var in selected_variables}\n",
    "\n",
    "# Performing t-tests for Sex (Male vs Female)\n",
    "t_test_results_sex = {var: perform_t_test(merged_data_reanalysis, var, 'sex', 'Male', 'Female') \n",
    "                      for var in selected_variables}\n",
    "\n",
    "t_test_results_participant_group, t_test_results_sex"
   ]
  },
  {
   "cell_type": "markdown",
   "metadata": {},
   "source": [
    "Heat map showing correlations between speech variables and clinical scores (baseline)"
   ]
  },
  {
   "cell_type": "code",
   "execution_count": null,
   "metadata": {},
   "outputs": [],
   "source": [
    "import pandas as pd\n",
    "import seaborn as sns\n",
    "import matplotlib.pyplot as plt\n",
    "\n",
    "# Load your dataset\n",
    "data = pd.read_csv('path_to_your_dataset.csv')\n",
    "\n",
    "# Define your clinical and speech variables of interest\n",
    "clinical_variables = ['hamd17_total_pre', 'hamd17_depression_pre', 'hamd17_insomnia_pre', \n",
    "                      'hamd17_somatic_pre', 'hamd17_anxiety_pre', 'hamd17_suicide_pre', \n",
    "                      'qids_total_pre', 'gad7_total_pre']\n",
    "speech_variables = ['list_of_speech_variables']  # Replace with your speech variables\n",
    "\n",
    "# Select the relevant data\n",
    "selected_data = data[clinical_variables + speech_variables]\n",
    "\n",
    "# Calculate the correlation matrix\n",
    "correlation_matrix = selected_data.corr()\n",
    "\n",
    "# Create the heatmap\n",
    "plt.figure(figsize=(12, 10))\n",
    "sns.heatmap(correlation_matrix, annot=True, cmap='coolwarm', fmt='.2f')\n",
    "plt.title('Correlation Heatmap Between Clinical and Speech Variables')\n",
    "plt.xticks(rotation=45, ha='right')\n",
    "plt.yticks(rotation=0)\n",
    "plt.tight_layout()\n",
    "plt.show()\n"
   ]
  }
 ],
 "metadata": {
  "kernelspec": {
   "display_name": "base",
   "language": "python",
   "name": "python3"
  },
  "language_info": {
   "codemirror_mode": {
    "name": "ipython",
    "version": 3
   },
   "file_extension": ".py",
   "mimetype": "text/x-python",
   "name": "python",
   "nbconvert_exporter": "python",
   "pygments_lexer": "ipython3",
   "version": "3.11.5"
  }
 },
 "nbformat": 4,
 "nbformat_minor": 2
}
