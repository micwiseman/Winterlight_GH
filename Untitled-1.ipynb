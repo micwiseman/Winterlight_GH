{
 "cells": [
  {
   "cell_type": "code",
   "execution_count": null,
   "metadata": {
    "vscode": {
     "languageId": "r"
    }
   },
   "outputs": [],
   "source": [
    "# Install the here package if you haven't already\n",
    "if (!requireNamespace(\"here\", quietly = TRUE)) {\n",
    "  install.packages(\"here\")\n",
    "}\n",
    "\n",
    "library(here)\n",
    "source(here(\"WL_helperfuncs.r\"), encoding = \"UTF-8\")\n",
    "\n",
    "\n",
    "psych <- read_csv(here(\"Final_Consolidated_Psychiatry_Data.csv\"))\n",
    "\n",
    "# Read and preprocess speech datasets\n",
    "library(readxl)\n",
    "library(dplyr)\n",
    "library(readr)\n",
    "library(tidyr)\n",
    "\n",
    "# Read datasets\n",
    "# Read and preprocess speech data\n",
    "WL <- speech_read_and_preprocess(here(\"WINTERLIGHT_Sunnybrook_rTMS_2023_11_03.csv\"))\n",
    "WL_2 <- speech_read_and_preprocess(here(\"WINTERLIGHT_Sunnybrook_rTMSremote_2024_03_28.csv\"))\n",
    "\n",
    "# Apply filters\n",
    "WL <- WL[grep(\"^(TMS|MDD)\", WL$participant_external_id), ]\n",
    "WL_2 <- WL_2[!(WL_2$participant_external_id == \"TMS039\" & WL_2$session_label %in% c(\"V2\", \"V3\", \"V4\")), ]\n",
    "WL_2 <- WL_2[!(WL_2$participant_external_id == \"TMS039b\" & WL_2$session_label == \"V1\"), ]\n",
    "WL_2$participant_external_id[WL_2$session_label %in% c(\"V2\", \"V3\") & WL_2$participant_external_id == \"TMS039b\"] <- \"TMS039\"\n",
    "\n",
    "\n",
    "# Combine datasets\n",
    "common_columns <- intersect(names(WL), names(WL_2))\n",
    "WL_common <- WL[, common_columns]\n",
    "WL_2_common <- WL_2[, common_columns]\n",
    "WL_combined <- rbind(WL_common, WL_2_common)\n",
    "\n",
    "# Processing participant_group\n",
    "WL_combined$participant_group <- factor(\n",
    "  ifelse(\n",
    "    grepl(\"(^CTC|C_CTC)\", WL_combined$participant_external_id), \"Control\",\n",
    "    ifelse(grepl(\"^(TMS|MDD|MFB)\", WL_combined$participant_external_id), \"MDD\", NA)\n",
    "  )\n",
    ")\n",
    "\n",
    "# Filter to match participant IDs in WL data\n",
    "psych_filtered <- psych %>%\n",
    "  filter(participant_external_id %in% WL_combined$participant_external_id)\n",
    "\n"
   ]
  }
 ],
 "metadata": {
  "kernelspec": {
   "display_name": "R",
   "language": "R",
   "name": "ir"
  },
  "language_info": {
   "name": "R"
  }
 },
 "nbformat": 4,
 "nbformat_minor": 2
}
